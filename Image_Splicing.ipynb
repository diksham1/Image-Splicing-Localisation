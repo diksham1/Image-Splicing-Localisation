{
  "nbformat": 4,
  "nbformat_minor": 0,
  "metadata": {
    "language_info": {
      "codemirror_mode": {
        "name": "ipython",
        "version": 3
      },
      "file_extension": ".py",
      "mimetype": "text/x-python",
      "name": "python",
      "nbconvert_exporter": "python",
      "pygments_lexer": "ipython3",
      "version": "3.6.2-final"
    },
    "orig_nbformat": 2,
    "kernelspec": {
      "name": "python3",
      "display_name": "Python 3",
      "language": "python"
    },
    "colab": {
      "name": "Image Splicing",
      "provenance": [],
      "collapsed_sections": [],
      "include_colab_link": true
    }
  },
  "cells": [
    {
      "cell_type": "markdown",
      "metadata": {
        "id": "view-in-github",
        "colab_type": "text"
      },
      "source": [
        "<a href=\"https://colab.research.google.com/github/lanukahjo/Image-Splicing-Localisation/blob/main/Image_Splicing.ipynb\" target=\"_parent\"><img src=\"https://colab.research.google.com/assets/colab-badge.svg\" alt=\"Open In Colab\"/></a>"
      ]
    },
    {
      "cell_type": "markdown",
      "metadata": {
        "id": "r5FHBPlBwFSY"
      },
      "source": [
        "## Image Splicing Localisation\n",
        "#### This notebook is the main flow of execution"
      ]
    },
    {
      "cell_type": "code",
      "metadata": {
        "id": "0zwqaOVZwFS3"
      },
      "source": [
        "from skimage import data\n",
        "from skimage import filters\n",
        "from skimage import io\n",
        "from skimage.feature import greycomatrix\n",
        "import numpy as np\n",
        "import os"
      ],
      "execution_count": 507,
      "outputs": []
    },
    {
      "cell_type": "markdown",
      "metadata": {
        "id": "LeSchfwcwFS-"
      },
      "source": [
        "Reading the file from the given location\n",
        "Manually for now...."
      ]
    },
    {
      "cell_type": "code",
      "metadata": {
        "id": "0wflNuTXhs2K"
      },
      "source": [
        "PATH_TO_AUTHENTIC_IMG = os.getcwd() + '/ImSpliceDataset/Au-T/AU_T_023.bmp'\n",
        "PATH_TO_SPLICED_IMG = os.getcwd() + '/ImSpliceDataset/Sp-T/SP_T_023.bmp';\n",
        "THRESHOLD = 0.25;\n",
        "BLOCK_SIZE = 8;\n",
        "STEP_SIZE = 2;"
      ],
      "execution_count": 518,
      "outputs": []
    },
    {
      "cell_type": "markdown",
      "metadata": {
        "id": "LlYkDWr1L_w9"
      },
      "source": [
        "###Assumption\n",
        "- Images are already in grayscale format (0-255)\n"
      ]
    },
    {
      "cell_type": "code",
      "metadata": {
        "id": "uFTt1wgMNoae"
      },
      "source": [
        "authentic_img = io.imread(PATH_TO_AUTHENTIC_IMG);\n",
        "spliced_img = io.imread(PATH_TO_SPLICED_IMG); "
      ],
      "execution_count": 519,
      "outputs": []
    },
    {
      "cell_type": "code",
      "metadata": {
        "id": "7vLEub3SwFTC"
      },
      "source": [
        "output_img_euclidean_dist = spliced_img;\n",
        "output_img_hellinger_dist = spliced_img;\n",
        "\n",
        "authentic_img_grey_reduced = (authentic_img/32).astype(int);\n",
        "spliced_img_grey_reduced = (spliced_img/32).astype(int);\n",
        "\n",
        "img_height = authentic_img.shape[0]\n",
        "img_width = authentic_img.shape[1]"
      ],
      "execution_count": 520,
      "outputs": []
    },
    {
      "cell_type": "code",
      "metadata": {
        "id": "odHqJd7uMsc8"
      },
      "source": [
        "# Get Hellinger Distance between two numpy ndarrays x and y\n",
        "def getHellingerDistance(x, y):\n",
        "  dot_product = np.multiply(x,y);\n",
        "  squared_matrix = x - 2*np.sqrt(dot_product) + y;\n",
        "  hellinger_distance = math.sqrt(np.sum(squared_matrix)/2.0); \n",
        "  return hellinger_distance;"
      ],
      "execution_count": 521,
      "outputs": []
    },
    {
      "cell_type": "code",
      "metadata": {
        "id": "lwSX804dNDBf"
      },
      "source": [
        "# Get euclidean distance between two numpy ndarrays x and y\n",
        "def getEuclideanDistance(x, y):\n",
        "  euclidean_distance = math.sqrt(np.sum(np.square(x-y)))\n",
        "  return euclidean_distance; "
      ],
      "execution_count": 522,
      "outputs": []
    },
    {
      "cell_type": "code",
      "execution_count": 523,
      "metadata": {},
      "outputs": [],
      "source": [
        "# We shall store the euclidean and hellinger distances because we need to normalise the diatances too....\n",
        "dist_mat_height = (int)((img_height - BLOCK_SIZE)/STEP_SIZE + 1); #total number of blocks in a column\n",
        "dist_mat_width = (int)((img_width - BLOCK_SIZE)/STEP_SIZE + 1); #total number of blocks in a row\n",
        "euc_dist_mat = np.zeros((dist_mat_height,dist_mat_width),dtype=float) #creating initial empty arrays\n",
        "hell_dist_mat = np.zeros((dist_mat_height,dist_mat_width),dtype=float) "
      ]
    },
    {
      "cell_type": "code",
      "metadata": {
        "id": "KBnI90bDs6k0",
        "tags": []
      },
      "source": [
        "row = 0; \n",
        "col = 0; #these two variables are used to access the euclidean and hellinger distance matrices\n",
        "for i in range(BLOCK_SIZE-1,img_height,STEP_SIZE):\n",
        "  col = 0;\n",
        "  \n",
        "  for j in range(BLOCK_SIZE-1,img_width,STEP_SIZE):\n",
        "    authentic_block = authentic_img_grey_reduced[i+1-BLOCK_SIZE:i+1, j+1-BLOCK_SIZE:j+1]\n",
        "    spliced_block = spliced_img_grey_reduced[i+1-BLOCK_SIZE:i+1, j+1-BLOCK_SIZE:j+1]\n",
        "    \n",
        "    glcm_matrix_auth = greycomatrix(authentic_block,distances=[1],angles=[0],levels = 8,normed=True)[:,:,0,0]\n",
        "    glcm_matrix_spl = greycomatrix(spliced_block,distances=[1],angles=[0],levels = 8,normed=True)[:,:,0,0]\n",
        "  \n",
        "    hellinger_distance = getHellingerDistance(glcm_matrix_auth, glcm_matrix_spl);\n",
        "    euclidean_distance = getEuclideanDistance(glcm_matrix_auth, glcm_matrix_spl);\n",
        "\n",
        "    hell_dist_mat[row,col] = hellinger_distance\n",
        "    euc_dist_mat[row,col] = euclidean_distance\n",
        "\n",
        "    col = col + 1\n",
        "  row = row + 1"
      ],
      "execution_count": 524,
      "outputs": []
    },
    {
      "cell_type": "code",
      "execution_count": 525,
      "metadata": {},
      "outputs": [],
      "source": [
        "euc_dist_mat = euc_dist_mat / np.max(euc_dist_mat)\n",
        "hell_dist_mat = hell_dist_mat / np.max(hell_dist_mat)"
      ]
    },
    {
      "cell_type": "code",
      "execution_count": 526,
      "metadata": {},
      "outputs": [],
      "source": [
        "#The blocks for which the textural difference is greater than threshold is painted white....\n",
        "for i in range(0,dist_mat_height):\n",
        "    for j in range(0,dist_mat_width):\n",
        "        if (euc_dist_mat[i,j] > THRESHOLD):\n",
        "            output_img_euclidean_dist[i*STEP_SIZE:i*STEP_SIZE+BLOCK_SIZE, j*STEP_SIZE:j*STEP_SIZE+BLOCK_SIZE] = 255*np.ones((BLOCK_SIZE,BLOCK_SIZE))\n",
        "        if (hell_dist_mat[i,j] > THRESHOLD):\n",
        "            output_img_hellinger_dist[i*STEP_SIZE:i*STEP_SIZE+BLOCK_SIZE, j*STEP_SIZE:j*STEP_SIZE+BLOCK_SIZE] = 255*np.ones((BLOCK_SIZE,BLOCK_SIZE))\n"
      ]
    },
    {
      "cell_type": "code",
      "metadata": {
        "id": "rNiQ-colpVVR"
      },
      "source": [
        "pos1 = PATH_TO_SPLICED_IMG.rindex(\"/\")\n",
        "pos2 = PATH_TO_SPLICED_IMG.rindex(\".\") #the text between the last '/' and the last '.' is the file name\n",
        "base_file_name = PATH_TO_SPLICED_IMG[pos1:pos2]\n",
        "io.imsave('output/Sp-T' + base_file_name + '_euclidean.bmp', output_img_euclidean_dist)\n",
        "io.imsave('output/Sp-T' + base_file_name + '_hellinger.bmp', output_img_hellinger_dist)"
      ],
      "execution_count": 527,
      "outputs": []
    },
    {
      "cell_type": "code",
      "execution_count": null,
      "metadata": {},
      "outputs": [],
      "source": []
    }
  ]
}