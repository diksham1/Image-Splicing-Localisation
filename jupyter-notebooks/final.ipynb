{
 "metadata": {
  "language_info": {
   "codemirror_mode": {
    "name": "ipython",
    "version": 3
   },
   "file_extension": ".py",
   "mimetype": "text/x-python",
   "name": "python",
   "nbconvert_exporter": "python",
   "pygments_lexer": "ipython3",
   "version": "3.8.8"
  },
  "orig_nbformat": 2,
  "kernelspec": {
   "name": "python388jvsc74a57bd0dca0ade3e726a953b501b15e8e990130d2b7799f14cfd9f4271676035ebe5511",
   "display_name": "Python 3.8.8 64-bit ('base': conda)"
  },
  "metadata": {
   "interpreter": {
    "hash": "dca0ade3e726a953b501b15e8e990130d2b7799f14cfd9f4271676035ebe5511"
   }
  }
 },
 "nbformat": 4,
 "nbformat_minor": 2,
 "cells": [
  {
   "source": [
    "## Import dependencies"
   ],
   "cell_type": "markdown",
   "metadata": {}
  },
  {
   "cell_type": "code",
   "execution_count": null,
   "metadata": {},
   "outputs": [],
   "source": [
    "import numpy as np\n",
    "from skimage import io\n",
    "from skimage.restoration import estimate_sigma\n",
    "from skimage.segmentation import slic, mark_boundaries\n",
    "from sklearn.cluster import KMeans\n",
    "\n",
    "from os.path import join\n",
    "import pathlib\n",
    "import matplotlib.pyplot as plt\n",
    "from pprint import pprint\n",
    "import csv\n",
    "\n",
    "from typing import List\n",
    "import numpy.typing as npt"
   ]
  },
  {
   "cell_type": "code",
   "execution_count": null,
   "metadata": {},
   "outputs": [],
   "source": [
    "write_files = True\n",
    "write_superpixels = False\n",
    "shrink_superpixels = False\n",
    "\n",
    "dir = 'images/1'\n",
    "fname_orig = 'original'\n",
    "fname_spl = 'spliced'\n",
    "ext = 'png'\n",
    "\n",
    "n_superpixels = 100"
   ]
  },
  {
   "source": [
    "## Import images"
   ],
   "cell_type": "markdown",
   "metadata": {}
  },
  {
   "cell_type": "code",
   "execution_count": null,
   "metadata": {},
   "outputs": [],
   "source": [
    "def load_images(dir: str, fname_orig: str, fname_spl: str, ext: str) -> List[npt.ArrayLike]:\n",
    "    img = io.imread(join(str(dir), f'{fname_spl}.{ext}'))\n",
    "    img = img[:,:,:3]\n",
    "    orig = io.imread(join(dir, f'{fname_orig}.{ext}'))\n",
    "    orig = orig[:,:,:3]\n",
    "\n",
    "    if write_files:\n",
    "        pathlib.Path(join(dir, 'artefacts')).mkdir(parents=True, exist_ok=True)\n",
    "\n",
    "    return [orig, img]\n",
    "\n",
    "[orig, img] = load_images(dir, fname_orig, fname_spl, ext)\n",
    "img_shape = img.shape\n",
    "path = join(dir, 'artefacts')"
   ]
  },
  {
   "source": [
    "## Mark spliced"
   ],
   "cell_type": "markdown",
   "metadata": {}
  },
  {
   "cell_type": "code",
   "execution_count": null,
   "metadata": {},
   "outputs": [],
   "source": [
    "def mark_spliced(img: npt.ArrayLike, orig: npt.ArrayLike) -> npt.ArrayLike:\n",
    "    def array_equals(a: List, b: List) -> bool:\n",
    "        for i in range(len(a)):\n",
    "            if not a[i] == b[i]:\n",
    "                return False\n",
    "        return True\n",
    "\n",
    "    spliced_labels = []\n",
    "\n",
    "    for i in range(img_shape[0]):\n",
    "        spliced_labels_row = []\n",
    "        for j in range(img_shape[1]):\n",
    "            spliced_labels_row.append(\n",
    "                0 if array_equals(img[i][j], orig[i][j]) else 1)\n",
    "        spliced_labels.append(spliced_labels_row)\n",
    "\n",
    "    spliced_labels = np.array(spliced_labels, dtype='uint8')\n",
    "\n",
    "    plt.imshow(spliced_labels, cmap='gray')\n",
    "    plt.show()\n",
    "\n",
    "    if write_files:\n",
    "        io.imsave(join(path, '1-splice-marked.png'), spliced_labels * 255)\n",
    "\n",
    "    return spliced_labels\n",
    "\n",
    "splice_marked = mark_spliced(img, orig)"
   ]
  },
  {
   "source": [
    "## SLIC segmentation"
   ],
   "cell_type": "markdown",
   "metadata": {}
  },
  {
   "cell_type": "code",
   "execution_count": null,
   "metadata": {},
   "outputs": [],
   "source": [
    "def slic_segmentation(img: npt.ArrayLike):\n",
    "    superpixels = slic(img, n_segments=n_superpixels, sigma=5, start_label=1)\n",
    "    \n",
    "    segmented = mark_boundaries(img, superpixels)\n",
    "\n",
    "    plt.imshow(segmented)\n",
    "    plt.show()\n",
    "\n",
    "    if write_files:\n",
    "        io.imsave(join(path, '2-superpixels.png'), segmented)\n",
    "\n",
    "    return superpixels\n",
    "\n",
    "superpixel_labels = slic_segmentation(img)"
   ]
  },
  {
   "source": [
    "## Count superpixels"
   ],
   "cell_type": "markdown",
   "metadata": {}
  },
  {
   "cell_type": "code",
   "execution_count": null,
   "metadata": {},
   "outputs": [],
   "source": [
    "def count_superpixels(superpixel_labels):\n",
    "    labels = set()\n",
    "\n",
    "    for i in range(img_shape[0]):\n",
    "        for j in range(img_shape[1]):\n",
    "            if superpixel_labels[i][j] not in labels:\n",
    "                labels.add(superpixel_labels[i][j])\n",
    "\n",
    "    return len(labels)\n",
    "\n",
    "superpixel_count = count_superpixels(superpixel_labels)\n",
    "print(f'Superpixels count: {superpixel_count}')"
   ]
  },
  {
   "source": [
    "## Separate superpixels"
   ],
   "cell_type": "markdown",
   "metadata": {}
  },
  {
   "cell_type": "code",
   "execution_count": null,
   "metadata": {},
   "outputs": [],
   "source": [
    "def get_superpixels(img: npt.ArrayLike, superpixel_labels, superpixel_count: int):\n",
    "    superpixels = []\n",
    "    for i in range(superpixel_count):\n",
    "        superpixels.append(np.zeros(img_shape))\n",
    "    \n",
    "    ranges = []\n",
    "    for i in range(superpixel_count):\n",
    "        ranges.append({\n",
    "            'min_row': -1,\n",
    "            'max_row': -1,\n",
    "            'min_col': -1,\n",
    "            'max_col': -1\n",
    "        })\n",
    "\n",
    "    def max(a, b):\n",
    "        return a if a > b else b\n",
    "    def min(a, b):\n",
    "        return a if a < b else b\n",
    "\n",
    "    for i in range(img_shape[0]):\n",
    "        for j in range(img_shape[1]):\n",
    "            label_index = superpixel_labels[i][j] - 1\n",
    "\n",
    "            superpixels[label_index][i][j] = img[i][j]\n",
    "            \n",
    "            if ranges[label_index].get('min_row') == -1:\n",
    "                ranges[label_index]['min_row'] = i\n",
    "            if ranges[label_index].get('min_col') == -1:\n",
    "                ranges[label_index]['min_col'] = j\n",
    "            ranges[label_index]['max_row'] = max(ranges[label_index].get('max_row'), i)\n",
    "            ranges[label_index]['max_col'] = max(ranges[label_index].get('max_col'), j)\n",
    "    \n",
    "    def shrink_image(img, range):\n",
    "        img_shape = img.shape\n",
    "        return img[\n",
    "            range.get('min_row'):range.get('max_row') + 1,\n",
    "            range.get('min_col'):range.get('max_col') + 1\n",
    "        ]\n",
    "\n",
    "    if shrink_superpixels:\n",
    "        for i in range(superpixel_count):\n",
    "            superpixels[i] = shrink_image(superpixels[i], ranges[i])\n",
    "    \n",
    "    if write_superpixels:\n",
    "        superpixels_path = join(path, 'superpixels')\n",
    "        pathlib.Path(superpixels_path).mkdir(parents=True, exist_ok=True)\n",
    "        for i in range(superpixel_count):\n",
    "            io.imsave(join(superpixels_path, f'superpixel-{i}.png'), superpixels[i])\n",
    "\n",
    "    return superpixels\n",
    "\n",
    "superpixels = get_superpixels(img, superpixel_labels, superpixel_count)"
   ]
  },
  {
   "source": [
    "## Estimate noise"
   ],
   "cell_type": "markdown",
   "metadata": {}
  },
  {
   "cell_type": "code",
   "execution_count": null,
   "metadata": {},
   "outputs": [],
   "source": [
    "def estimate_noise(img):\n",
    "    return estimate_sigma(img, multichannel=True, average_sigmas=True)"
   ]
  },
  {
   "cell_type": "code",
   "execution_count": null,
   "metadata": {},
   "outputs": [],
   "source": [
    "def estimate_superpixel_noises(superpixels):\n",
    "    superpixels_count = len(superpixels)\n",
    "\n",
    "    noises = []\n",
    "    for i in range(superpixels_count):\n",
    "        noises.append(estimate_noise(superpixels[i]))\n",
    "    \n",
    "    with open(join(path, '3-noises.csv'), 'w') as f:\n",
    "        writer = csv.writer(f)\n",
    "        writer.writerow(['Superpixel', 'Sigma'])\n",
    "        writer.writerows(zip(range(superpixels_count), noises))\n",
    "    \n",
    "    plt.scatter(range(superpixels_count), noises)\n",
    "    plt.savefig(join(path, '4-plot-noises.png'), bbox_inches='tight', dpi=500)\n",
    "    plt.show()\n",
    "\n",
    "    return noises\n",
    "\n",
    "noises = estimate_superpixel_noises(superpixels)"
   ]
  },
  {
   "source": [
    "## Cluster noises"
   ],
   "cell_type": "markdown",
   "metadata": {}
  },
  {
   "cell_type": "code",
   "execution_count": null,
   "metadata": {},
   "outputs": [],
   "source": [
    "def cluster_noises(noises, n_clusters: int = 2):\n",
    "    data = np.array(noises)\n",
    "    kmeans = KMeans(n_clusters=n_clusters, init='k-means++').fit(data.reshape(-1, 1))\n",
    "    clusters = kmeans.predict(data.reshape(-1, 1))\n",
    "\n",
    "    return clusters\n",
    "\n",
    "noise_clusters = cluster_noises(noises)"
   ]
  },
  {
   "source": [
    "## Detect splicing"
   ],
   "cell_type": "markdown",
   "metadata": {}
  },
  {
   "cell_type": "code",
   "execution_count": null,
   "metadata": {},
   "outputs": [],
   "source": [
    "def detect_splicing(noise_clusters, superpixel_labels):\n",
    "    i_segmented = np.zeros((img_shape[0], img_shape[1]))\n",
    "\n",
    "    for i in range(img_shape[0]):\n",
    "        for j in range(img_shape[1]):\n",
    "            i_segmented[i][j] = noise_clusters[superpixel_labels[i][j] - 1]\n",
    "    \n",
    "    n_0 = 0\n",
    "    n_1 = 0\n",
    "    for i in range(img_shape[0]):\n",
    "        for j in range(img_shape[1]):\n",
    "            if i_segmented[i][j] == 0:\n",
    "                n_0 += 1\n",
    "            else:\n",
    "                n_1 += 1\n",
    "    if n_0 < n_1:\n",
    "        for i in range(img_shape[0]):\n",
    "            for j in range(img_shape[1]):\n",
    "                i_segmented[i][j] = 1 - i_segmented[i][j]\n",
    "\n",
    "    i_segmented = np.array(i_segmented, dtype='int32')\n",
    "    marked = mark_boundaries(img, i_segmented)\n",
    "\n",
    "    plt.imshow(marked)\n",
    "    plt.show()\n",
    "\n",
    "    if write_files:\n",
    "        io.imsave(join(path, '5-splice-detected.png'), marked)\n",
    "\n",
    "    return i_segmented\n",
    "\n",
    "splice_detected = detect_splicing(noise_clusters, superpixel_labels)"
   ]
  },
  {
   "source": [
    "## Mask splicing"
   ],
   "cell_type": "markdown",
   "metadata": {}
  },
  {
   "cell_type": "code",
   "execution_count": null,
   "metadata": {},
   "outputs": [],
   "source": [
    "def mask_spliced(img, splice_detected):\n",
    "    mask_img = []\n",
    "    for i in range(img_shape[0]):\n",
    "        mask_img_row = []\n",
    "        for j in range(img_shape[1]):\n",
    "            mask_pixel = img[i][j]\n",
    "            if splice_detected[i][j] == 1:\n",
    "                mask_pixel = mask_pixel * [0.77, 0.90, 0.22]\n",
    "            mask_img_row.append(mask_pixel)\n",
    "        mask_img.append(mask_img_row)\n",
    "    mask_img = np.array(mask_img, dtype='uint8')\n",
    "\n",
    "    plt.imshow(mask_img)\n",
    "    plt.show()\n",
    "\n",
    "    if write_files:\n",
    "        io.imsave(join(path, '6-splice-mask.png'), mask_img)\n",
    "\n",
    "mask_spliced(img, splice_detected)"
   ]
  },
  {
   "source": [
    "## Show metrics"
   ],
   "cell_type": "markdown",
   "metadata": {}
  },
  {
   "cell_type": "code",
   "execution_count": null,
   "metadata": {},
   "outputs": [],
   "source": [
    "def get_metrics(splice_marked, splice_detected):\n",
    "    tp = 0\n",
    "    fp = 0\n",
    "    tn = 0\n",
    "    fn = 0\n",
    "\n",
    "    mask_img = []\n",
    "    for i in range(img_shape[0]):\n",
    "        mask_img_row = []\n",
    "        for j in range(img_shape[1]):\n",
    "            mask_pixel = img[i][j]\n",
    "\n",
    "            if splice_detected[i][j] == 1 and splice_marked[i][j] == 1:\n",
    "                tp += 1\n",
    "                mask_pixel = mask_pixel * [0.33, 1, 0.33]\n",
    "            elif splice_detected[i][j] == 1 and splice_marked[i][j] == 0:\n",
    "                fp += 1\n",
    "                mask_pixel = mask_pixel * [1, 0.33, 0.33]\n",
    "            elif splice_detected[i][j] == 0 and splice_marked[i][j] == 0:\n",
    "                tn += 1\n",
    "            elif splice_detected[i][j] == 0 and splice_marked[i][j] == 1:\n",
    "                fn += 1\n",
    "                mask_pixel = mask_pixel * [0.33, 0.33, 1]\n",
    "\n",
    "            mask_img_row.append(mask_pixel)\n",
    "        mask_img.append(mask_img_row)\n",
    "    mask_img = np.array(mask_img, dtype='uint8')\n",
    "\n",
    "    plt.imshow(mask_img)\n",
    "    plt.show()\n",
    "\n",
    "    if write_files:\n",
    "        io.imsave(join(path, '7-splice-validation.png'), mask_img)\n",
    "\n",
    "    precision = tp / (tp + fp)\n",
    "    recall = tp / (tp + fn)\n",
    "    f_1 = tp / (tp + ((fp + fn) / 2))\n",
    "\n",
    "    print(f'rows: {img_shape[0]}')\n",
    "    print(f'cols: {img_shape[1]}')\n",
    "    print(f'total: {img_shape[0] * img_shape[1]}\\n')\n",
    "\n",
    "    print(f'true positives: {tp}')\n",
    "    print(f'false positives: {fp}')\n",
    "    print(f'true negatives: {tn}')\n",
    "    print(f'false negatives: {fn}\\n')\n",
    "\n",
    "    print(f'precision: {precision}')\n",
    "    print(f'recall: {recall}')\n",
    "    print(f'f_1 score: {f_1}')\n",
    "\n",
    "    with open(join(path, '8-metrics.txt'), 'w') as metrics_f:\n",
    "        metrics_f.write(f'rows: {img_shape[0]}\\n')\n",
    "        metrics_f.write(f'cols: {img_shape[1]}\\n')\n",
    "        metrics_f.write(f'total: {img_shape[0] * img_shape[1]}\\n\\n')\n",
    "\n",
    "        metrics_f.write(f'true positives: {tp}\\n')\n",
    "        metrics_f.write(f'false positives: {fp}\\n')\n",
    "        metrics_f.write(f'true negatives: {tn}\\n')\n",
    "        metrics_f.write(f'false negatives: {fn}\\n\\n')\n",
    "\n",
    "        metrics_f.write(f'precision: {precision}\\n')\n",
    "        metrics_f.write(f'recall: {recall}\\n')\n",
    "        metrics_f.write(f'f_1 score: {f_1}\\n')\n",
    "\n",
    "get_metrics(splice_marked, splice_detected)"
   ]
  },
  {
   "cell_type": "code",
   "execution_count": null,
   "metadata": {},
   "outputs": [],
   "source": []
  }
 ]
}