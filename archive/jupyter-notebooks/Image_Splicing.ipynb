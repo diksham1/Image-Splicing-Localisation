{
  "nbformat": 4,
  "nbformat_minor": 0,
  "metadata": {
    "language_info": {
      "codemirror_mode": {
        "name": "ipython",
        "version": 3
      },
      "file_extension": ".py",
      "mimetype": "text/x-python",
      "name": "python",
      "nbconvert_exporter": "python",
      "pygments_lexer": "ipython3",
      "version": "3.6.2-final"
    },
    "orig_nbformat": 2,
    "kernelspec": {
      "name": "python3",
      "display_name": "Python 3",
      "language": "python"
    },
    "colab": {
      "name": "Image Splicing",
      "provenance": [],
      "collapsed_sections": [],
      "toc_visible": true,
      "include_colab_link": true
    }
  },
  "cells": [
    {
      "cell_type": "markdown",
      "metadata": {
        "id": "view-in-github",
        "colab_type": "text"
      },
      "source": [
        "<a href=\"https://colab.research.google.com/github/lanukahjo/Image-Splicing-Localisation/blob/main/Image_Splicing.ipynb\" target=\"_parent\"><img src=\"https://colab.research.google.com/assets/colab-badge.svg\" alt=\"Open In Colab\"/></a>"
      ]
    },
    {
      "cell_type": "markdown",
      "metadata": {
        "id": "r5FHBPlBwFSY"
      },
      "source": [
        "## Image Splicing Localisation\n",
        "#### This notebook is the main flow of execution"
      ]
    },
    {
      "cell_type": "code",
      "metadata": {
        "id": "0zwqaOVZwFS3"
      },
      "source": [
        "import matplotlib.pyplot as plt\n",
        "import matplotlib.image as mpimg\n",
        "import numpy as np\n",
        "import os\n",
        "import math;\n",
        "from skimage import data\n",
        "from skimage import filters\n",
        "from skimage import io\n",
        "from skimage.feature import greycomatrix"
      ],
      "execution_count": 6,
      "outputs": []
    },
    {
      "cell_type": "markdown",
      "metadata": {
        "id": "LeSchfwcwFS-"
      },
      "source": [
        "Reading the file from the given location\n",
        "manually for now."
      ]
    },
    {
      "cell_type": "code",
      "metadata": {
        "id": "0wflNuTXhs2K"
      },
      "source": [
        "# Constants used throughout the code\n",
        "IMG_NO = '040'\n",
        "\n",
        "PATH_TO_AUTHENTIC_IMG = '/content/AU_S_%s.bmp'.replace('%s', IMG_NO)\n",
        "PATH_TO_SPLICED_IMG = '/content/SP_S_%s.bmp'.replace('%s', IMG_NO);\n",
        "\n",
        "THRESHOLD = 0.25;\n",
        "BLOCK_SIZE = 4;\n",
        "STEP_SIZE = 2;\n",
        "MINKOWSKI_DISTANCE_ORDER = 4;"
      ],
      "execution_count": 7,
      "outputs": []
    },
    {
      "cell_type": "markdown",
      "metadata": {
        "id": "LlYkDWr1L_w9"
      },
      "source": [
        "###Assumption\n",
        "- Images are already in grayscale format (0-255)\n"
      ]
    },
    {
      "cell_type": "code",
      "metadata": {
        "id": "uFTt1wgMNoae"
      },
      "source": [
        "authentic_img = io.imread(PATH_TO_AUTHENTIC_IMG);\n",
        "spliced_img = io.imread(PATH_TO_SPLICED_IMG); "
      ],
      "execution_count": 8,
      "outputs": []
    },
    {
      "cell_type": "code",
      "metadata": {
        "id": "7vLEub3SwFTC"
      },
      "source": [
        "output_img_euclidean_dist = spliced_img;\n",
        "output_img_hellinger_dist = spliced_img;\n",
        "output_img_minkowski_dist = spliced_img;\n",
        "\n",
        "authentic_img_grey_reduced = (authentic_img/32).astype(int);\n",
        "spliced_img_grey_reduced = (spliced_img/32).astype(int);\n",
        "\n",
        "img_height = authentic_img.shape[0]\n",
        "img_width = authentic_img.shape[1]"
      ],
      "execution_count": 9,
      "outputs": []
    },
    {
      "cell_type": "code",
      "metadata": {
        "id": "odHqJd7uMsc8"
      },
      "source": [
        "# Get Hellinger Distance between two numpy ndarrays x and y\n",
        "\n",
        "def getHellingerDistance(x, y):\n",
        "  dot_product = np.multiply(x,y);\n",
        "  squared_matrix = x - 2*np.sqrt(dot_product) + y;\n",
        "  hellinger_distance = math.sqrt(np.sum(squared_matrix)/2.0); \n",
        "  \n",
        "  return hellinger_distance;"
      ],
      "execution_count": 10,
      "outputs": []
    },
    {
      "cell_type": "code",
      "metadata": {
        "id": "lwSX804dNDBf"
      },
      "source": [
        "# Get euclidean distance between two numpy ndarrays x and y\n",
        "\n",
        "def getEuclideanDistance(x, y):\n",
        "  euclidean_distance = math.sqrt(np.sum(np.square(x-y)))\n",
        "  return euclidean_distance; "
      ],
      "execution_count": 11,
      "outputs": []
    },
    {
      "cell_type": "code",
      "metadata": {
        "id": "cyW1MfjmY4sG"
      },
      "source": [
        "#Get Minkowski distance of order p between two numpy ndarrays x and y\n",
        "\n",
        "def getMinkowskiDistance(x, y, p):\n",
        "  minkowski_distance = (np.sum((x-y)**p))**(1/p);\n",
        "  return minkowski_distance;"
      ],
      "execution_count": 12,
      "outputs": []
    },
    {
      "cell_type": "code",
      "metadata": {
        "id": "F_pa1ysyX6y5"
      },
      "source": [
        "# We shall store the different distances because we need to normalise the diatances too.\n",
        "\n",
        "#total number of blocks in a column\n",
        "dist_mat_height = (int)((img_height - BLOCK_SIZE)/STEP_SIZE + 1); \n",
        "\n",
        "\n",
        "#total number of blocks in a row\n",
        "dist_mat_width = (int)((img_width - BLOCK_SIZE)/STEP_SIZE + 1); \n",
        "\n",
        "\n",
        "#create empty arrays to store the different distances used\n",
        "\n",
        "euc_dist_mat = np.zeros((dist_mat_height, dist_mat_width), dtype = float) \n",
        "hell_dist_mat = np.zeros((dist_mat_height, dist_mat_width), dtype = float) \n",
        "minkowski_dist_mat = np.zeros((dist_mat_height, dist_mat_width), dtype = float) \n"
      ],
      "execution_count": 13,
      "outputs": []
    },
    {
      "cell_type": "code",
      "metadata": {
        "id": "KBnI90bDs6k0",
        "tags": []
      },
      "source": [
        "# row and col are used to index into the distance matrices\n",
        "\n",
        "row = 0; \n",
        "col = 0; \n",
        " \n",
        "for i in range(BLOCK_SIZE - 1, img_height, STEP_SIZE):\n",
        "  col = 0;\n",
        "  \n",
        "  for j in range(BLOCK_SIZE - 1, img_width, STEP_SIZE):\n",
        "\n",
        "    #Index into the blocks\n",
        "    authentic_block = authentic_img_grey_reduced[i + 1 - BLOCK_SIZE : i + 1,\n",
        "                                                 j + 1 - BLOCK_SIZE : j + 1];                                          \n",
        "    spliced_block = spliced_img_grey_reduced[i + 1 - BLOCK_SIZE : i + 1,\n",
        "                                             j + 1 - BLOCK_SIZE : j + 1]\n",
        "    \n",
        "    #Calculate the normalised GLCM for Authentic image\n",
        "    glcm_matrix_auth = greycomatrix(authentic_block,\n",
        "                                    distances = [1],\n",
        "                                    angles = [0],\n",
        "                                    levels = 8,\n",
        "                                    normed = True);\n",
        "    glcm_matrix_auth = glcm_matrix_auth[:,:,0,0];\n",
        "\n",
        "    #Calculate the normalised GLCM for Spliced image\n",
        "    glcm_matrix_spl = greycomatrix(spliced_block,\n",
        "                                   distances = [1],\n",
        "                                   angles = [0],\n",
        "                                   levels = 8,\n",
        "                                   normed = True);\n",
        "    glcm_matrix_spl = glcm_matrix_spl[:,:,0,0]\n",
        "  \n",
        "    #Calculate different distances\n",
        "    hellinger_distance = getHellingerDistance(glcm_matrix_auth, glcm_matrix_spl);\n",
        "    euclidean_distance = getEuclideanDistance(glcm_matrix_auth, glcm_matrix_spl);\n",
        "    minkowski_distance = getMinkowskiDistance(glcm_matrix_auth, glcm_matrix_spl,\n",
        "                                              MINKOWSKI_DISTANCE_ORDER);\n",
        "\n",
        "    #Store the distance between blocks at (row,col) index in distance matrices\n",
        "    hell_dist_mat[row,col] = hellinger_distance\n",
        "    euc_dist_mat[row,col] = euclidean_distance\n",
        "    minkowski_dist_mat[row,col] = minkowski_distance;\n",
        "\n",
        "    col = col + 1\n",
        "  row = row + 1"
      ],
      "execution_count": 14,
      "outputs": []
    },
    {
      "cell_type": "code",
      "metadata": {
        "id": "uYEYcnpOX6zF"
      },
      "source": [
        "#Normalise the distance matrices\n",
        "\n",
        "euc_dist_mat = euc_dist_mat / np.max(euc_dist_mat)\n",
        "hell_dist_mat = hell_dist_mat / np.max(hell_dist_mat)\n",
        "minkowski_dist_mat = minkowski_dist_mat / np.max(minkowski_dist_mat);"
      ],
      "execution_count": 15,
      "outputs": []
    },
    {
      "cell_type": "code",
      "metadata": {
        "id": "R55xDrCwX6zI"
      },
      "source": [
        "#The blocks for which the textural difference is greater than threshold is painted white\n",
        "\n",
        "for i in range(0, dist_mat_height):\n",
        "    for j in range(0, dist_mat_width):\n",
        "      \n",
        "        if (euc_dist_mat[i,j] > THRESHOLD):\n",
        "            output_img_euclidean_dist[i * STEP_SIZE : i * STEP_SIZE + BLOCK_SIZE, \n",
        "                                      j * STEP_SIZE : j * STEP_SIZE + BLOCK_SIZE] = 255 * np.ones((BLOCK_SIZE, BLOCK_SIZE))\n",
        "        if (hell_dist_mat[i,j] > THRESHOLD):\n",
        "            output_img_hellinger_dist[i * STEP_SIZE : i * STEP_SIZE + BLOCK_SIZE,\n",
        "                                      j * STEP_SIZE : j * STEP_SIZE + BLOCK_SIZE] = 255 * np.ones((BLOCK_SIZE, BLOCK_SIZE))\n",
        "        if (minkowski_dist_mat[i,j] > THRESHOLD):\n",
        "            output_img_minkowski_dist[i * STEP_SIZE : i * STEP_SIZE + BLOCK_SIZE,\n",
        "                                      j * STEP_SIZE : j * STEP_SIZE + BLOCK_SIZE] = 255*np.ones((BLOCK_SIZE, BLOCK_SIZE))\n"
      ],
      "execution_count": 16,
      "outputs": []
    },
    {
      "cell_type": "code",
      "metadata": {
        "id": "rNiQ-colpVVR"
      },
      "source": [
        "# the text between the last '/' and the last '.' is the file name \n",
        "# assuming dataset's naming convention is followed\n",
        "pos1 = PATH_TO_SPLICED_IMG.rindex(\"/\")\n",
        "pos2 = PATH_TO_SPLICED_IMG.rindex(\".\") \n",
        "#base_file_name = PATH_TO_SPLICED_IMG[pos1:pos2]\n",
        "\n",
        "io.imsave('euclidean.bmp', output_img_euclidean_dist)\n",
        "io.imsave('hellinger.bmp', output_img_hellinger_dist)\n",
        "io.imsave('minkowski.bmp', output_img_minkowski_dist)\n"
      ],
      "execution_count": 17,
      "outputs": []
    },
    {
      "cell_type": "code",
      "metadata": {
        "colab": {
          "base_uri": "https://localhost:8080/",
          "height": 176
        },
        "id": "M5y3OxpGiDj2",
        "outputId": "711ae4fc-78ae-4365-c853-41cdde30a082"
      },
      "source": [
        "#Display the authentic and Spliced input images\n",
        "\n",
        "img_auth = mpimg.imread(PATH_TO_AUTHENTIC_IMG)\n",
        "img_spl = mpimg.imread(PATH_TO_SPLICED_IMG)\n",
        "\n",
        "fig, axarr = plt.subplots(1,2);\n",
        "fig.subplots_adjust(wspace = 1)\n",
        "axarr[0].imshow(img_auth, cmap='gray');\n",
        "axarr[0].set_title('Authentic image')\n",
        "\n",
        "axarr[1].imshow(img_spl, cmap='gray');\n",
        "axarr[1].set_title('Spliced image')\n",
        "\n",
        "plt.show()"
      ],
      "execution_count": 25,
      "outputs": [
        {
          "output_type": "display_data",
          "data": {
            "image/png": "[encoded data removed]",
            "text/plain": [
              "<Figure size 432x288 with 2 Axes>"
            ]
          },
          "metadata": {
            "tags": [],
            "needs_background": "light"
          }
        }
      ]
    },
    {
      "cell_type": "code",
      "metadata": {
        "colab": {
          "base_uri": "https://localhost:8080/",
          "height": 131
        },
        "id": "rzMkAu8JX6zL",
        "outputId": "db4f4cba-fe7d-41e6-f39c-677500082e96"
      },
      "source": [
        "# Display the output images (spliced part colored)\n",
        "\n",
        "img_euclidean = mpimg.imread('euclidean.bmp')\n",
        "img_hellinger = mpimg.imread('hellinger.bmp')\n",
        "img_minkowski = mpimg.imread('minkowski.bmp')\n",
        "\n",
        "fig, axarr = plt.subplots(1,3);\n",
        "fig.subplots_adjust(wspace = 1)\n",
        "\n",
        "axarr[0].imshow(img_euclidean, cmap='gray');\n",
        "axarr[0].set_title('Euclidean distance')\n",
        "axarr[1].imshow(img_hellinger, cmap='gray');\n",
        "axarr[1].set_title('Hellinger distance')\n",
        "axarr[2].imshow(img_minkowski, cmap='gray');\n",
        "axarr[2].set_title('Minkowski distance')\n",
        "\n",
        "plt.show()"
      ],
      "execution_count": 27,
      "outputs": [
        {
          "output_type": "display_data",
          "data": {
            "image/png": "[encoded data removed]",
            "text/plain": [
              "<Figure size 432x288 with 3 Axes>"
            ]
          },
          "metadata": {
            "tags": [],
            "needs_background": "light"
          }
        }
      ]
    }
  ]
}